{
 "cells": [
  {
   "cell_type": "code",
   "execution_count": 1,
   "metadata": {},
   "outputs": [],
   "source": [
    "import numpy as np\n",
    "import pandas as pd\n",
    "import pickle\n",
    "from sklearn.model_selection import train_test_split\n",
    "from sklearn.preprocessing import StandardScaler\n",
    "from sklearn.utils import shuffle\n",
    "from sklearn.preprocessing import LabelEncoder, OrdinalEncoder\n",
    "from sklearn.ensemble import RandomForestClassifier\n",
    "import matplotlib.pyplot as plt\n",
    "%matplotlib inline \n",
    "import seaborn as sns"
   ]
  },
  {
   "cell_type": "markdown",
   "metadata": {},
   "source": [
    "### Load training data"
   ]
  },
  {
   "cell_type": "code",
   "execution_count": 2,
   "metadata": {},
   "outputs": [],
   "source": [
    "data = pd.read_csv('train.csv', sep=';')"
   ]
  },
  {
   "cell_type": "code",
   "execution_count": 3,
   "metadata": {},
   "outputs": [
    {
     "data": {
      "text/html": [
       "<div>\n",
       "<style scoped>\n",
       "    .dataframe tbody tr th:only-of-type {\n",
       "        vertical-align: middle;\n",
       "    }\n",
       "\n",
       "    .dataframe tbody tr th {\n",
       "        vertical-align: top;\n",
       "    }\n",
       "\n",
       "    .dataframe thead th {\n",
       "        text-align: right;\n",
       "    }\n",
       "</style>\n",
       "<table border=\"1\" class=\"dataframe\">\n",
       "  <thead>\n",
       "    <tr style=\"text-align: right;\">\n",
       "      <th></th>\n",
       "      <th>WELL</th>\n",
       "      <th>DEPTH_MD</th>\n",
       "      <th>X_LOC</th>\n",
       "      <th>Y_LOC</th>\n",
       "      <th>Z_LOC</th>\n",
       "      <th>GROUP</th>\n",
       "      <th>FORMATION</th>\n",
       "      <th>CALI</th>\n",
       "      <th>RSHA</th>\n",
       "      <th>RMED</th>\n",
       "      <th>...</th>\n",
       "      <th>ROP</th>\n",
       "      <th>DTS</th>\n",
       "      <th>DCAL</th>\n",
       "      <th>DRHO</th>\n",
       "      <th>MUDWEIGHT</th>\n",
       "      <th>RMIC</th>\n",
       "      <th>ROPA</th>\n",
       "      <th>RXO</th>\n",
       "      <th>FORCE_2020_LITHOFACIES_LITHOLOGY</th>\n",
       "      <th>FORCE_2020_LITHOFACIES_CONFIDENCE</th>\n",
       "    </tr>\n",
       "  </thead>\n",
       "  <tbody>\n",
       "    <tr>\n",
       "      <th>512230</th>\n",
       "      <td>30/3-3</td>\n",
       "      <td>3249.422000</td>\n",
       "      <td>497357.62500</td>\n",
       "      <td>6737331.0</td>\n",
       "      <td>-3227.059082</td>\n",
       "      <td>DUNLIN GP.</td>\n",
       "      <td>Cook Fm.</td>\n",
       "      <td>9.023400</td>\n",
       "      <td>11.518786</td>\n",
       "      <td>9.018661</td>\n",
       "      <td>...</td>\n",
       "      <td>NaN</td>\n",
       "      <td>NaN</td>\n",
       "      <td>NaN</td>\n",
       "      <td>-0.004114</td>\n",
       "      <td>NaN</td>\n",
       "      <td>NaN</td>\n",
       "      <td>NaN</td>\n",
       "      <td>11.552272</td>\n",
       "      <td>30000</td>\n",
       "      <td>2.0</td>\n",
       "    </tr>\n",
       "    <tr>\n",
       "      <th>713918</th>\n",
       "      <td>33/6-3 S</td>\n",
       "      <td>4303.001200</td>\n",
       "      <td>445214.09375</td>\n",
       "      <td>6829373.5</td>\n",
       "      <td>-4030.387451</td>\n",
       "      <td>DUNLIN GP.</td>\n",
       "      <td>Eiriksson Mb.</td>\n",
       "      <td>6.207651</td>\n",
       "      <td>NaN</td>\n",
       "      <td>3.244695</td>\n",
       "      <td>...</td>\n",
       "      <td>4.371890</td>\n",
       "      <td>136.450058</td>\n",
       "      <td>NaN</td>\n",
       "      <td>-0.005353</td>\n",
       "      <td>NaN</td>\n",
       "      <td>NaN</td>\n",
       "      <td>3.049563</td>\n",
       "      <td>NaN</td>\n",
       "      <td>30000</td>\n",
       "      <td>1.0</td>\n",
       "    </tr>\n",
       "    <tr>\n",
       "      <th>1101886</th>\n",
       "      <td>35/8-6 S</td>\n",
       "      <td>2174.678800</td>\n",
       "      <td>518131.09375</td>\n",
       "      <td>6799446.5</td>\n",
       "      <td>-2126.034424</td>\n",
       "      <td>SHETLAND GP.</td>\n",
       "      <td>Kyrre Fm.</td>\n",
       "      <td>12.439091</td>\n",
       "      <td>NaN</td>\n",
       "      <td>1.240800</td>\n",
       "      <td>...</td>\n",
       "      <td>89.430656</td>\n",
       "      <td>NaN</td>\n",
       "      <td>NaN</td>\n",
       "      <td>0.032909</td>\n",
       "      <td>NaN</td>\n",
       "      <td>NaN</td>\n",
       "      <td>77.410286</td>\n",
       "      <td>NaN</td>\n",
       "      <td>65000</td>\n",
       "      <td>1.0</td>\n",
       "    </tr>\n",
       "    <tr>\n",
       "      <th>653577</th>\n",
       "      <td>31/4-5</td>\n",
       "      <td>1512.220796</td>\n",
       "      <td>503115.59375</td>\n",
       "      <td>6713758.0</td>\n",
       "      <td>-1486.918091</td>\n",
       "      <td>HORDALAND GP.</td>\n",
       "      <td>Utsira Fm.</td>\n",
       "      <td>18.917574</td>\n",
       "      <td>NaN</td>\n",
       "      <td>0.743884</td>\n",
       "      <td>...</td>\n",
       "      <td>NaN</td>\n",
       "      <td>NaN</td>\n",
       "      <td>NaN</td>\n",
       "      <td>0.015409</td>\n",
       "      <td>NaN</td>\n",
       "      <td>NaN</td>\n",
       "      <td>NaN</td>\n",
       "      <td>NaN</td>\n",
       "      <td>65000</td>\n",
       "      <td>1.0</td>\n",
       "    </tr>\n",
       "    <tr>\n",
       "      <th>133360</th>\n",
       "      <td>16/2-6</td>\n",
       "      <td>759.810799</td>\n",
       "      <td>477772.50000</td>\n",
       "      <td>6520634.0</td>\n",
       "      <td>-733.767578</td>\n",
       "      <td>NORDLAND GP.</td>\n",
       "      <td>NaN</td>\n",
       "      <td>12.631559</td>\n",
       "      <td>NaN</td>\n",
       "      <td>1.560631</td>\n",
       "      <td>...</td>\n",
       "      <td>3.540828</td>\n",
       "      <td>NaN</td>\n",
       "      <td>NaN</td>\n",
       "      <td>0.020462</td>\n",
       "      <td>NaN</td>\n",
       "      <td>NaN</td>\n",
       "      <td>7.652958</td>\n",
       "      <td>NaN</td>\n",
       "      <td>65000</td>\n",
       "      <td>1.0</td>\n",
       "    </tr>\n",
       "    <tr>\n",
       "      <th>453303</th>\n",
       "      <td>26/4-1</td>\n",
       "      <td>1478.888199</td>\n",
       "      <td>501143.50000</td>\n",
       "      <td>6608186.5</td>\n",
       "      <td>-1455.798706</td>\n",
       "      <td>HORDALAND GP.</td>\n",
       "      <td>Utsira Fm.</td>\n",
       "      <td>18.593863</td>\n",
       "      <td>0.926627</td>\n",
       "      <td>1.709514</td>\n",
       "      <td>...</td>\n",
       "      <td>6.292838</td>\n",
       "      <td>NaN</td>\n",
       "      <td>1.093862</td>\n",
       "      <td>NaN</td>\n",
       "      <td>0.159369</td>\n",
       "      <td>NaN</td>\n",
       "      <td>NaN</td>\n",
       "      <td>NaN</td>\n",
       "      <td>65000</td>\n",
       "      <td>1.0</td>\n",
       "    </tr>\n",
       "    <tr>\n",
       "      <th>603680</th>\n",
       "      <td>31/3-1</td>\n",
       "      <td>931.741000</td>\n",
       "      <td>539997.81250</td>\n",
       "      <td>6738654.5</td>\n",
       "      <td>-908.607788</td>\n",
       "      <td>ROGALAND GP.</td>\n",
       "      <td>Balder Fm.</td>\n",
       "      <td>NaN</td>\n",
       "      <td>NaN</td>\n",
       "      <td>0.908585</td>\n",
       "      <td>...</td>\n",
       "      <td>NaN</td>\n",
       "      <td>NaN</td>\n",
       "      <td>NaN</td>\n",
       "      <td>-0.010217</td>\n",
       "      <td>NaN</td>\n",
       "      <td>NaN</td>\n",
       "      <td>NaN</td>\n",
       "      <td>NaN</td>\n",
       "      <td>65000</td>\n",
       "      <td>1.0</td>\n",
       "    </tr>\n",
       "    <tr>\n",
       "      <th>1138409</th>\n",
       "      <td>35/9-6 S</td>\n",
       "      <td>2166.104000</td>\n",
       "      <td>537116.12500</td>\n",
       "      <td>6804510.5</td>\n",
       "      <td>-2124.664795</td>\n",
       "      <td>SHETLAND GP.</td>\n",
       "      <td>Kyrre Fm.</td>\n",
       "      <td>12.158364</td>\n",
       "      <td>NaN</td>\n",
       "      <td>1.477714</td>\n",
       "      <td>...</td>\n",
       "      <td>NaN</td>\n",
       "      <td>NaN</td>\n",
       "      <td>NaN</td>\n",
       "      <td>NaN</td>\n",
       "      <td>NaN</td>\n",
       "      <td>1.18535</td>\n",
       "      <td>21.846743</td>\n",
       "      <td>NaN</td>\n",
       "      <td>65000</td>\n",
       "      <td>1.0</td>\n",
       "    </tr>\n",
       "    <tr>\n",
       "      <th>683980</th>\n",
       "      <td>31/6-5</td>\n",
       "      <td>1876.775000</td>\n",
       "      <td>544116.62500</td>\n",
       "      <td>6720739.0</td>\n",
       "      <td>-1853.690063</td>\n",
       "      <td>VIKING GP.</td>\n",
       "      <td>Fensfjord Fm.</td>\n",
       "      <td>8.662040</td>\n",
       "      <td>NaN</td>\n",
       "      <td>1.005857</td>\n",
       "      <td>...</td>\n",
       "      <td>NaN</td>\n",
       "      <td>NaN</td>\n",
       "      <td>NaN</td>\n",
       "      <td>-0.022597</td>\n",
       "      <td>NaN</td>\n",
       "      <td>NaN</td>\n",
       "      <td>NaN</td>\n",
       "      <td>NaN</td>\n",
       "      <td>70000</td>\n",
       "      <td>1.0</td>\n",
       "    </tr>\n",
       "    <tr>\n",
       "      <th>276004</th>\n",
       "      <td>25/2-7</td>\n",
       "      <td>2170.258001</td>\n",
       "      <td>479876.09375</td>\n",
       "      <td>6641111.0</td>\n",
       "      <td>-2145.093262</td>\n",
       "      <td>ROGALAND GP.</td>\n",
       "      <td>Balder Fm.</td>\n",
       "      <td>18.590778</td>\n",
       "      <td>1.434674</td>\n",
       "      <td>1.434674</td>\n",
       "      <td>...</td>\n",
       "      <td>NaN</td>\n",
       "      <td>NaN</td>\n",
       "      <td>NaN</td>\n",
       "      <td>0.003655</td>\n",
       "      <td>NaN</td>\n",
       "      <td>NaN</td>\n",
       "      <td>NaN</td>\n",
       "      <td>NaN</td>\n",
       "      <td>99000</td>\n",
       "      <td>3.0</td>\n",
       "    </tr>\n",
       "  </tbody>\n",
       "</table>\n",
       "<p>10 rows × 29 columns</p>\n",
       "</div>"
      ],
      "text/plain": [
       "             WELL     DEPTH_MD         X_LOC      Y_LOC        Z_LOC  \\\n",
       "512230     30/3-3  3249.422000  497357.62500  6737331.0 -3227.059082   \n",
       "713918   33/6-3 S  4303.001200  445214.09375  6829373.5 -4030.387451   \n",
       "1101886  35/8-6 S  2174.678800  518131.09375  6799446.5 -2126.034424   \n",
       "653577     31/4-5  1512.220796  503115.59375  6713758.0 -1486.918091   \n",
       "133360     16/2-6   759.810799  477772.50000  6520634.0  -733.767578   \n",
       "453303     26/4-1  1478.888199  501143.50000  6608186.5 -1455.798706   \n",
       "603680     31/3-1   931.741000  539997.81250  6738654.5  -908.607788   \n",
       "1138409  35/9-6 S  2166.104000  537116.12500  6804510.5 -2124.664795   \n",
       "683980     31/6-5  1876.775000  544116.62500  6720739.0 -1853.690063   \n",
       "276004     25/2-7  2170.258001  479876.09375  6641111.0 -2145.093262   \n",
       "\n",
       "                 GROUP      FORMATION       CALI       RSHA      RMED  ...  \\\n",
       "512230      DUNLIN GP.       Cook Fm.   9.023400  11.518786  9.018661  ...   \n",
       "713918      DUNLIN GP.  Eiriksson Mb.   6.207651        NaN  3.244695  ...   \n",
       "1101886   SHETLAND GP.      Kyrre Fm.  12.439091        NaN  1.240800  ...   \n",
       "653577   HORDALAND GP.     Utsira Fm.  18.917574        NaN  0.743884  ...   \n",
       "133360    NORDLAND GP.            NaN  12.631559        NaN  1.560631  ...   \n",
       "453303   HORDALAND GP.     Utsira Fm.  18.593863   0.926627  1.709514  ...   \n",
       "603680    ROGALAND GP.     Balder Fm.        NaN        NaN  0.908585  ...   \n",
       "1138409   SHETLAND GP.      Kyrre Fm.  12.158364        NaN  1.477714  ...   \n",
       "683980      VIKING GP.  Fensfjord Fm.   8.662040        NaN  1.005857  ...   \n",
       "276004    ROGALAND GP.     Balder Fm.  18.590778   1.434674  1.434674  ...   \n",
       "\n",
       "               ROP         DTS      DCAL      DRHO  MUDWEIGHT     RMIC  \\\n",
       "512230         NaN         NaN       NaN -0.004114        NaN      NaN   \n",
       "713918    4.371890  136.450058       NaN -0.005353        NaN      NaN   \n",
       "1101886  89.430656         NaN       NaN  0.032909        NaN      NaN   \n",
       "653577         NaN         NaN       NaN  0.015409        NaN      NaN   \n",
       "133360    3.540828         NaN       NaN  0.020462        NaN      NaN   \n",
       "453303    6.292838         NaN  1.093862       NaN   0.159369      NaN   \n",
       "603680         NaN         NaN       NaN -0.010217        NaN      NaN   \n",
       "1138409        NaN         NaN       NaN       NaN        NaN  1.18535   \n",
       "683980         NaN         NaN       NaN -0.022597        NaN      NaN   \n",
       "276004         NaN         NaN       NaN  0.003655        NaN      NaN   \n",
       "\n",
       "              ROPA        RXO  FORCE_2020_LITHOFACIES_LITHOLOGY  \\\n",
       "512230         NaN  11.552272                             30000   \n",
       "713918    3.049563        NaN                             30000   \n",
       "1101886  77.410286        NaN                             65000   \n",
       "653577         NaN        NaN                             65000   \n",
       "133360    7.652958        NaN                             65000   \n",
       "453303         NaN        NaN                             65000   \n",
       "603680         NaN        NaN                             65000   \n",
       "1138409  21.846743        NaN                             65000   \n",
       "683980         NaN        NaN                             70000   \n",
       "276004         NaN        NaN                             99000   \n",
       "\n",
       "         FORCE_2020_LITHOFACIES_CONFIDENCE  \n",
       "512230                                 2.0  \n",
       "713918                                 1.0  \n",
       "1101886                                1.0  \n",
       "653577                                 1.0  \n",
       "133360                                 1.0  \n",
       "453303                                 1.0  \n",
       "603680                                 1.0  \n",
       "1138409                                1.0  \n",
       "683980                                 1.0  \n",
       "276004                                 3.0  \n",
       "\n",
       "[10 rows x 29 columns]"
      ]
     },
     "execution_count": 3,
     "metadata": {},
     "output_type": "execute_result"
    }
   ],
   "source": [
    "data.sample(10)"
   ]
  },
  {
   "cell_type": "code",
   "execution_count": 4,
   "metadata": {},
   "outputs": [
    {
     "data": {
      "text/plain": [
       "(1170511, 29)"
      ]
     },
     "execution_count": 4,
     "metadata": {},
     "output_type": "execute_result"
    }
   ],
   "source": [
    "data.shape"
   ]
  },
  {
   "cell_type": "markdown",
   "metadata": {},
   "source": [
    "### Outliers"
   ]
  },
  {
   "cell_type": "code",
   "execution_count": 5,
   "metadata": {},
   "outputs": [],
   "source": [
    "data_copy = data.copy()"
   ]
  },
  {
   "cell_type": "code",
   "execution_count": 6,
   "metadata": {},
   "outputs": [
    {
     "data": {
      "text/plain": [
       "130511     5\n",
       "65422      2\n",
       "148929     2\n",
       "98762      2\n",
       "939128     0\n",
       "354869     2\n",
       "764044     1\n",
       "1096372    2\n",
       "692161     0\n",
       "271883     2\n",
       "Name: FORCE_2020_LITHOFACIES_LITHOLOGY, dtype: int64"
      ]
     },
     "execution_count": 6,
     "metadata": {},
     "output_type": "execute_result"
    }
   ],
   "source": [
    "lithology_numbers = {30000: 0,\n",
    "                 65030: 1,\n",
    "                 65000: 2,\n",
    "                 80000: 3,\n",
    "                 74000: 4,\n",
    "                 70000: 5,\n",
    "                 70032: 6,\n",
    "                 88000: 7,\n",
    "                 86000: 8,\n",
    "                 99000: 9,\n",
    "                 90000: 10,\n",
    "                 93000: 11}\n",
    "labels_name = 'FORCE_2020_LITHOFACIES_LITHOLOGY'\n",
    "lit_to_numbers = data_copy[labels_name].map(lithology_numbers)\n",
    "data_copy[labels_name] = lit_to_numbers\n",
    "data_copy[labels_name].sample(10)"
   ]
  },
  {
   "cell_type": "markdown",
   "metadata": {},
   "source": [
    "#### Labels distribution"
   ]
  },
  {
   "cell_type": "code",
   "execution_count": 7,
   "metadata": {},
   "outputs": [
    {
     "data": {
      "image/png": "[encoded data removed]",
      "text/plain": [
       "<Figure size 360x360 with 1 Axes>"
      ]
     },
     "metadata": {
      "needs_background": "light"
     },
     "output_type": "display_data"
    }
   ],
   "source": [
    "sns.displot(data_copy[labels_name], bins=10, kde=True)\n",
    "plt.grid()\n",
    "pass"
   ]
  },
  {
   "cell_type": "code",
   "execution_count": 8,
   "metadata": {},
   "outputs": [
    {
     "data": {
      "image/png": "[encoded data removed]",
      "text/plain": [
       "<Figure size 432x432 with 3 Axes>"
      ]
     },
     "metadata": {
      "needs_background": "light"
     },
     "output_type": "display_data"
    }
   ],
   "source": [
    "sns.jointplot(x='X_LOC', y='Y_LOC', alpha=.05, data=data_copy)\n",
    "pass"
   ]
  },
  {
   "cell_type": "code",
   "execution_count": 9,
   "metadata": {},
   "outputs": [
    {
     "data": {
      "text/plain": [
       "0.005    436797.771094\n",
       "0.010    436809.250000\n",
       "0.050    438424.968750\n",
       "0.100    444158.281250\n",
       "0.500    476920.312500\n",
       "0.900    536841.562500\n",
       "0.950    543917.125000\n",
       "0.990    551801.290625\n",
       "0.995    556075.812500\n",
       "Name: X_LOC, dtype: float64"
      ]
     },
     "execution_count": 9,
     "metadata": {},
     "output_type": "execute_result"
    },
    {
     "data": {
      "image/png": "[encoded data removed]",
      "text/plain": [
       "<Figure size 432x288 with 1 Axes>"
      ]
     },
     "metadata": {
      "needs_background": "light"
     },
     "output_type": "display_data"
    }
   ],
   "source": [
    "sns.boxplot(x=labels_name, y=\"X_LOC\", data=data_copy)\n",
    "data_copy['X_LOC'].quantile([0.005,.01,.05,.1,.5,.9,.95,.99,.995])"
   ]
  },
  {
   "cell_type": "code",
   "execution_count": 10,
   "metadata": {},
   "outputs": [
    {
     "data": {
      "text/plain": [
       "0.005    6406642.0\n",
       "0.010    6406647.0\n",
       "0.050    6452287.5\n",
       "0.100    6468386.0\n",
       "0.500    6737311.0\n",
       "0.900    6812832.0\n",
       "0.950    6829540.5\n",
       "0.990    6847170.5\n",
       "0.995    6853000.0\n",
       "Name: Y_LOC, dtype: float64"
      ]
     },
     "execution_count": 10,
     "metadata": {},
     "output_type": "execute_result"
    },
    {
     "data": {
      "image/png": "[encoded data removed]",
      "text/plain": [
       "<Figure size 432x288 with 1 Axes>"
      ]
     },
     "metadata": {
      "needs_background": "light"
     },
     "output_type": "display_data"
    }
   ],
   "source": [
    "sns.boxplot(x=labels_name, y=\"Y_LOC\", data=data_copy)\n",
    "data_copy['Y_LOC'].quantile([0.005,.01,.05,.1,.5,.9,.95,.99,.995])"
   ]
  },
  {
   "cell_type": "code",
   "execution_count": 11,
   "metadata": {},
   "outputs": [
    {
     "data": {
      "text/plain": [
       "0.005   -4744.577674\n",
       "0.010   -4556.764673\n",
       "0.050   -3872.754150\n",
       "0.100   -3461.883423\n",
       "0.500   -2042.784973\n",
       "0.900    -922.527039\n",
       "0.950    -697.141251\n",
       "0.990    -422.672520\n",
       "0.995    -330.519095\n",
       "Name: Z_LOC, dtype: float64"
      ]
     },
     "execution_count": 11,
     "metadata": {},
     "output_type": "execute_result"
    },
    {
     "data": {
      "image/png": "[encoded data removed]",
      "text/plain": [
       "<Figure size 432x288 with 1 Axes>"
      ]
     },
     "metadata": {
      "needs_background": "light"
     },
     "output_type": "display_data"
    }
   ],
   "source": [
    "sns.boxplot(x=labels_name, y=\"Z_LOC\", data=data_copy)\n",
    "data_copy['Z_LOC'].quantile([0.005,.01,.05,.1,.5,.9,.95,.99,.995])"
   ]
  },
  {
   "cell_type": "code",
   "execution_count": 12,
   "metadata": {},
   "outputs": [],
   "source": [
    "corr_mat = data_copy.corr()\n",
    "corr_mat = corr_mat[corr_mat < 1.0]"
   ]
  },
  {
   "cell_type": "code",
   "execution_count": 13,
   "metadata": {},
   "outputs": [
    {
     "data": {
      "image/png": "[encoded data removed]",
      "text/plain": [
       "<Figure size 432x288 with 2 Axes>"
      ]
     },
     "metadata": {
      "needs_background": "light"
     },
     "output_type": "display_data"
    }
   ],
   "source": [
    "sns.heatmap(corr_mat, square=True, cmap='coolwarm', xticklabels=True, yticklabels=True)\n",
    "pass"
   ]
  },
  {
   "cell_type": "markdown",
   "metadata": {},
   "source": [
    "### Inspecting available logs and interpretations"
   ]
  },
  {
   "cell_type": "markdown",
   "metadata": {},
   "source": [
    "The data contains the metadata columns\n",
    "* WELL: well name\n",
    "* DEPTH_MD: measured depth\n",
    "* X_LOC: UTM X coordinate \n",
    "* Y_LOC: UTM Y coordinate\n",
    "* Z_LOC: DEPTH\n",
    "* GROUP: NPD lithostratigraphy group\n",
    "* FORMATION: NPD lithostratgraphy formation\n",
    "\n",
    "The data contains the well log curves. For example the following:\n",
    "* BS: Bit Size\n",
    "* CALI: Caliper\n",
    "* RDEP: Deep Resistivity\n",
    "* RHOB: Bulk Density\n",
    "* GR: Raw gamma data\n",
    "* SGR: Spectral Gamma Ray\n",
    "* RMED: Medium Resistivity\n",
    "* ROP: Rate of Penetration\n",
    "* NPHI: Neutron Porosity\n",
    "* PEF: Photoelectric Absorption Factor\n",
    "* RSHA: Shallow Resistivity\n",
    "* DTS: Sonic (Sheer Slowness)\n",
    "* DTC: Sonic (Compressional Slowness)\n",
    "\n",
    "See contest page for full list.\n",
    "\n",
    "as well as the interpretation\n",
    "\n",
    "* FORCE_2020_LITHOFACIES_LITHOLOGY: lithology class label\n",
    "* FORCE_2020_LITHOFACIES_CONFIDENCE: confidence in lithology interpretation (1: high, 2: medium, 3: low)"
   ]
  },
  {
   "cell_type": "markdown",
   "metadata": {},
   "source": [
    "There is a total of 83 wells in the training dataset. The `WELL` column is included so the data can be separated per well. This will be necessary for any \"windowed\" approaches where we use non-local information in the ML features. "
   ]
  },
  {
   "cell_type": "code",
   "execution_count": 15,
   "metadata": {
    "scrolled": true
   },
   "outputs": [],
   "source": [
    "wells = data['WELL'].unique()"
   ]
  },
  {
   "cell_type": "code",
   "execution_count": 16,
   "metadata": {},
   "outputs": [
    {
     "data": {
      "text/plain": [
       "array(['15/9-13', '15/9-15', '15/9-17', '16/1-2', '16/1-6 A', '16/10-1',\n",
       "       '16/10-2', '16/10-3', '16/10-5', '16/11-1 ST3', '16/2-11 A',\n",
       "       '16/2-16', '16/2-6', '16/4-1', '16/5-3', '16/7-4', '16/7-5',\n",
       "       '16/8-1', '17/11-1', '25/11-15', '25/11-19 S', '25/11-5',\n",
       "       '25/2-13 T4', '25/2-14', '25/2-7', '25/3-1', '25/4-5', '25/5-1',\n",
       "       '25/5-4', '25/6-1', '25/6-2', '25/6-3', '25/7-2', '25/8-5 S',\n",
       "       '25/8-7', '25/9-1', '26/4-1', '29/6-1', '30/3-3', '30/3-5 S',\n",
       "       '30/6-5', '31/2-1', '31/2-19 S', '31/2-7', '31/2-8', '31/2-9',\n",
       "       '31/3-1', '31/3-2', '31/3-3', '31/3-4', '31/4-10', '31/4-5',\n",
       "       '31/5-4 S', '31/6-5', '31/6-8', '32/2-1', '33/5-2', '33/6-3 S',\n",
       "       '33/9-1', '33/9-17', '34/10-19', '34/10-21', '34/10-33',\n",
       "       '34/10-35', '34/11-1', '34/11-2 S', '34/12-1', '34/2-4',\n",
       "       '34/3-1 A', '34/4-10 R', '34/5-1 A', '34/5-1 S', '34/7-13',\n",
       "       '34/7-20', '34/7-21', '34/8-1', '34/8-3', '34/8-7 R', '35/11-1',\n",
       "       '35/11-10', '35/11-11', '35/11-12', '35/11-13', '35/11-15 S',\n",
       "       '35/11-6', '35/11-7', '35/12-1', '35/3-7 S', '35/4-1', '35/8-4',\n",
       "       '35/8-6 S', '35/9-10 S', '35/9-2', '35/9-5', '35/9-6 S', '36/7-3',\n",
       "       '7/1-1', '7/1-2 S'], dtype=object)"
      ]
     },
     "execution_count": 16,
     "metadata": {},
     "output_type": "execute_result"
    }
   ],
   "source": [
    "wells"
   ]
  },
  {
   "cell_type": "code",
   "execution_count": 17,
   "metadata": {},
   "outputs": [
    {
     "data": {
      "text/plain": [
       "98"
      ]
     },
     "execution_count": 17,
     "metadata": {},
     "output_type": "execute_result"
    }
   ],
   "source": [
    "len(wells)"
   ]
  },
  {
   "cell_type": "markdown",
   "metadata": {},
   "source": [
    "### The LITHOLOGY column"
   ]
  },
  {
   "cell_type": "markdown",
   "metadata": {},
   "source": [
    "The LITHOLOGY column contains the interpretation. Each number corresponds to a lithology class, given by the following list:"
   ]
  },
  {
   "cell_type": "code",
   "execution_count": 18,
   "metadata": {},
   "outputs": [],
   "source": [
    "lithology_keys = {30000: 'Sandstone',\n",
    "                 65030: 'Sandstone/Shale',\n",
    "                 65000: 'Shale',\n",
    "                 80000: 'Marl',\n",
    "                 74000: 'Dolomite',\n",
    "                 70000: 'Limestone',\n",
    "                 70032: 'Chalk',\n",
    "                 88000: 'Halite',\n",
    "                 86000: 'Anhydrite',\n",
    "                 99000: 'Tuff',\n",
    "                 90000: 'Coal',\n",
    "                 93000: 'Basement'}"
   ]
  },
  {
   "cell_type": "code",
   "execution_count": 19,
   "metadata": {},
   "outputs": [
    {
     "data": {
      "text/plain": [
       "array([65000, 30000, 65030, 70000, 99000, 80000, 86000, 74000, 70032,\n",
       "       90000, 88000, 93000])"
      ]
     },
     "execution_count": 19,
     "metadata": {},
     "output_type": "execute_result"
    }
   ],
   "source": [
    "data['FORCE_2020_LITHOFACIES_LITHOLOGY'].unique()"
   ]
  },
  {
   "cell_type": "markdown",
   "metadata": {},
   "source": [
    "Lithologies are not equally likely. This is reflected in this dataset."
   ]
  },
  {
   "cell_type": "code",
   "execution_count": 20,
   "metadata": {},
   "outputs": [
    {
     "name": "stderr",
     "output_type": "stream",
     "text": [
      "<ipython-input-20-0dac7bdbb0db>:10: UserWarning: FixedFormatter should only be used together with FixedLocator\n",
      "  ax.set_xticklabels(names, rotation=45)\n"
     ]
    },
    {
     "data": {
      "text/plain": [
       "Text(0, 0.5, 'Lithology presence (\\\\%)')"
      ]
     },
     "execution_count": 20,
     "metadata": {},
     "output_type": "execute_result"
    },
    {
     "data": {
      "image/png": "[encoded data removed]",
      "text/plain": [
       "<Figure size 1008x504 with 1 Axes>"
      ]
     },
     "metadata": {
      "needs_background": "light"
     },
     "output_type": "display_data"
    }
   ],
   "source": [
    "counts = data['FORCE_2020_LITHOFACIES_LITHOLOGY'].value_counts()\n",
    "names = []\n",
    "percentage = []\n",
    "N = data['FORCE_2020_LITHOFACIES_LITHOLOGY'].shape[0]\n",
    "for item in counts.iteritems():\n",
    "    names.append(lithology_keys[item[0]])\n",
    "    percentage.append(float(item[1])/N*100)\n",
    "fig, ax = plt.subplots(1, 1, figsize=(14, 7))\n",
    "ax.bar(x=np.arange(len(names)), height=percentage)\n",
    "ax.set_xticklabels(names, rotation=45)\n",
    "ax.set_xticks(np.arange(len(names)))\n",
    "ax.set_ylabel('Lithology presence (\\%)')"
   ]
  },
  {
   "cell_type": "markdown",
   "metadata": {},
   "source": [
    "### Missing logs"
   ]
  },
  {
   "cell_type": "markdown",
   "metadata": {},
   "source": [
    "**Notice that some of the curves are NaN. This is an imporant aspect of this dataset and of this competition.** The only log columns that are **guaranteed** to be present are WELL, DEPT, and GR. All other logs can (and will) be missing from some parts of the dataset."
   ]
  },
  {
   "cell_type": "code",
   "execution_count": 21,
   "metadata": {},
   "outputs": [
    {
     "data": {
      "text/plain": [
       "WELL                                 False\n",
       "DEPTH_MD                             False\n",
       "X_LOC                                 True\n",
       "Y_LOC                                 True\n",
       "Z_LOC                                 True\n",
       "GROUP                                 True\n",
       "FORMATION                             True\n",
       "CALI                                  True\n",
       "RSHA                                  True\n",
       "RMED                                  True\n",
       "RDEP                                  True\n",
       "RHOB                                  True\n",
       "GR                                   False\n",
       "SGR                                   True\n",
       "NPHI                                  True\n",
       "PEF                                   True\n",
       "DTC                                   True\n",
       "SP                                    True\n",
       "BS                                    True\n",
       "ROP                                   True\n",
       "DTS                                   True\n",
       "DCAL                                  True\n",
       "DRHO                                  True\n",
       "MUDWEIGHT                             True\n",
       "RMIC                                  True\n",
       "ROPA                                  True\n",
       "RXO                                   True\n",
       "FORCE_2020_LITHOFACIES_LITHOLOGY     False\n",
       "FORCE_2020_LITHOFACIES_CONFIDENCE     True\n",
       "dtype: bool"
      ]
     },
     "execution_count": 21,
     "metadata": {},
     "output_type": "execute_result"
    }
   ],
   "source": [
    "data.isna().any()"
   ]
  },
  {
   "cell_type": "code",
   "execution_count": 22,
   "metadata": {
    "scrolled": true
   },
   "outputs": [
    {
     "data": {
      "text/plain": [
       "WELL                                       0\n",
       "DEPTH_MD                                   0\n",
       "X_LOC                                  10775\n",
       "Y_LOC                                  10775\n",
       "Z_LOC                                  10775\n",
       "GROUP                                   1278\n",
       "FORMATION                             136994\n",
       "CALI                                   87877\n",
       "RSHA                                  539861\n",
       "RMED                                   38993\n",
       "RDEP                                   11015\n",
       "RHOB                                  161269\n",
       "GR                                         0\n",
       "SGR                                  1101158\n",
       "NPHI                                  405102\n",
       "PEF                                   498819\n",
       "DTC                                    80863\n",
       "SP                                    306264\n",
       "BS                                    487854\n",
       "ROP                                   635440\n",
       "DTS                                   995898\n",
       "DCAL                                  871678\n",
       "DRHO                                  182654\n",
       "MUDWEIGHT                             854360\n",
       "RMIC                                  994351\n",
       "ROPA                                  978186\n",
       "RXO                                   843084\n",
       "FORCE_2020_LITHOFACIES_LITHOLOGY           0\n",
       "FORCE_2020_LITHOFACIES_CONFIDENCE        179\n",
       "dtype: int64"
      ]
     },
     "execution_count": 22,
     "metadata": {},
     "output_type": "execute_result"
    }
   ],
   "source": [
    "data.isna().sum()"
   ]
  },
  {
   "cell_type": "markdown",
   "metadata": {},
   "source": [
    "### Procent of Nan's at the dataset"
   ]
  },
  {
   "cell_type": "code",
   "execution_count": 23,
   "metadata": {},
   "outputs": [
    {
     "name": "stdout",
     "output_type": "stream",
     "text": [
      "Total procent of Nan's at the dataset 30.18282\n"
     ]
    }
   ],
   "source": [
    "count_nan = 0\n",
    "for i in data.isna().sum():\n",
    "    count_nan += i\n",
    "print(f\"Total procent of Nan's at the dataset {count_nan/(data.shape[0]*data.shape[1])*100:.5f}\")"
   ]
  },
  {
   "cell_type": "code",
   "execution_count": null,
   "metadata": {},
   "outputs": [],
   "source": []
  },
  {
   "cell_type": "markdown",
   "metadata": {},
   "source": [
    "The following plot shows how large a percentage of training data wells contain at least some depth interval with the given logs. As you can see a couple of logs like RT and DTS are present in less than half of the training wells. **Remember, the test data will have a similar distribution of available logs**"
   ]
  },
  {
   "cell_type": "code",
   "execution_count": 24,
   "metadata": {},
   "outputs": [
    {
     "name": "stderr",
     "output_type": "stream",
     "text": [
      "<ipython-input-24-3e496e06d9ed>:6: UserWarning: FixedFormatter should only be used together with FixedLocator\n",
      "  ax.set_xticklabels(data.columns[2:-2], rotation=45)\n"
     ]
    },
    {
     "data": {
      "text/plain": [
       "Text(0, 0.5, 'Well presence (\\\\%)')"
      ]
     },
     "execution_count": 24,
     "metadata": {},
     "output_type": "execute_result"
    },
    {
     "data": {
      "image/png": "[encoded data removed]",
      "text/plain": [
       "<Figure size 1008x504 with 1 Axes>"
      ]
     },
     "metadata": {
      "needs_background": "light"
     },
     "output_type": "display_data"
    }
   ],
   "source": [
    "occurences = np.zeros(25)\n",
    "for well in data['WELL'].unique():\n",
    "    occurences += data[data['WELL'] == well].isna().all().astype(int).values[2:-2]\n",
    "fig, ax = plt.subplots(1, 1, figsize=(14, 7))\n",
    "ax.bar(x=np.arange(occurences.shape[0]), height=(data.WELL.unique().shape[0]-occurences)/data.WELL.unique().shape[0]*100.0)\n",
    "ax.set_xticklabels(data.columns[2:-2], rotation=45)\n",
    "ax.set_xticks(np.arange(occurences.shape[0]))\n",
    "ax.set_ylabel('Well presence (\\%)')"
   ]
  },
  {
   "cell_type": "markdown",
   "metadata": {},
   "source": [
    "#### Look at some log curves for a couple of wells"
   ]
  },
  {
   "cell_type": "code",
   "execution_count": 25,
   "metadata": {
    "scrolled": false
   },
   "outputs": [
    {
     "data": {
      "text/plain": [
       "(3272.0240000000003, 494.528)"
      ]
     },
     "execution_count": 25,
     "metadata": {},
     "output_type": "execute_result"
    },
    {
     "data": {
      "image/png": "[encoded data removed]",
      "text/plain": [
       "<Figure size 1008x720 with 20 Axes>"
      ]
     },
     "metadata": {
      "needs_background": "light"
     },
     "output_type": "display_data"
    }
   ],
   "source": [
    "well_data = data[data['WELL'] == wells[0]]\n",
    "fig, axs = plt.subplots(1, len(well_data.columns)-9, figsize=(14, 10), sharey=True)\n",
    "for ic, col in enumerate(set(well_data.columns)-set(['DEPTH_MD', 'FORCE_2020_LITHOFACIES_LITHOLOGY',\n",
    "                                                     'FORCE_2020_LITHOFACIES_CONFIDENCE', 'WELL', 'GROUP', 'FORMATION',\n",
    "                                                    'X_LOC', 'Y_LOC', 'Z_LOC'])):\n",
    "    axs[ic].plot(well_data[col], well_data['DEPTH_MD'])\n",
    "    axs[ic].set_xlabel(col)\n",
    "axs[0].set_ylim(well_data['DEPTH_MD'].values[-1], well_data['DEPTH_MD'].values[0])"
   ]
  },
  {
   "cell_type": "code",
   "execution_count": 26,
   "metadata": {},
   "outputs": [
    {
     "data": {
      "text/plain": [
       "(4422.0172, 2484.1692)"
      ]
     },
     "execution_count": 26,
     "metadata": {},
     "output_type": "execute_result"
    },
    {
     "data": {
      "image/png": "[encoded data removed]",
      "text/plain": [
       "<Figure size 1008x720 with 20 Axes>"
      ]
     },
     "metadata": {
      "needs_background": "light"
     },
     "output_type": "display_data"
    }
   ],
   "source": [
    "well_data = data[data['WELL'] == wells[57]]\n",
    "fig, axs = plt.subplots(1, len(well_data.columns)-9, figsize=(14, 10), sharey=True)\n",
    "for ic, col in enumerate(set(well_data.columns)-set(['DEPTH_MD', 'FORCE_2020_LITHOFACIES_LITHOLOGY',\n",
    "                                                     'FORCE_2020_LITHOFACIES_CONFIDENCE', 'WELL', 'GROUP', 'FORMATION',\n",
    "                                                    'X_LOC', 'Y_LOC', 'Z_LOC'])):\n",
    "    axs[ic].plot(well_data[col], well_data['DEPTH_MD'])\n",
    "    axs[ic].set_xlabel(col)\n",
    "axs[0].set_ylim(well_data['DEPTH_MD'].values[-1], well_data['DEPTH_MD'].values[0])"
   ]
  },
  {
   "cell_type": "markdown",
   "metadata": {},
   "source": [
    "### Preparing data for training"
   ]
  },
  {
   "cell_type": "code",
   "execution_count": 27,
   "metadata": {},
   "outputs": [],
   "source": [
    "X = data.drop(columns=['WELL', 'FORCE_2020_LITHOFACIES_LITHOLOGY', 'FORCE_2020_LITHOFACIES_CONFIDENCE'])"
   ]
  },
  {
   "cell_type": "markdown",
   "metadata": {},
   "source": [
    "##### As a simple approach we replace nan with zero and hope for the best"
   ]
  },
  {
   "cell_type": "code",
   "execution_count": 28,
   "metadata": {},
   "outputs": [],
   "source": [
    "X.fillna(0, inplace=True)"
   ]
  },
  {
   "cell_type": "markdown",
   "metadata": {},
   "source": [
    "#### We should convert lithology labels to numbers 0-11 before training"
   ]
  },
  {
   "cell_type": "code",
   "execution_count": 29,
   "metadata": {},
   "outputs": [],
   "source": [
    "y = data['FORCE_2020_LITHOFACIES_LITHOLOGY']"
   ]
  },
  {
   "cell_type": "code",
   "execution_count": 30,
   "metadata": {},
   "outputs": [],
   "source": [
    "lithology_numbers = {30000: 0,\n",
    "                 65030: 1,\n",
    "                 65000: 2,\n",
    "                 80000: 3,\n",
    "                 74000: 4,\n",
    "                 70000: 5,\n",
    "                 70032: 6,\n",
    "                 88000: 7,\n",
    "                 86000: 8,\n",
    "                 99000: 9,\n",
    "                 90000: 10,\n",
    "                 93000: 11}"
   ]
  },
  {
   "cell_type": "code",
   "execution_count": 31,
   "metadata": {},
   "outputs": [],
   "source": [
    "y = y.map(lithology_numbers)"
   ]
  },
  {
   "cell_type": "markdown",
   "metadata": {},
   "source": [
    "##### Lithologies are not equally likely. Probably smart to take this into account by computing class weights"
   ]
  },
  {
   "cell_type": "code",
   "execution_count": 32,
   "metadata": {},
   "outputs": [
    {
     "data": {
      "text/plain": [
       "array([168937, 150455, 720803,  33329,   1688,  56320,  10513,   8213,\n",
       "         1085,  15245,   3820,    103])"
      ]
     },
     "execution_count": 32,
     "metadata": {},
     "output_type": "execute_result"
    }
   ],
   "source": [
    "np.bincount(y)"
   ]
  },
  {
   "cell_type": "markdown",
   "metadata": {},
   "source": [
    "##### Shuffle the data"
   ]
  },
  {
   "cell_type": "code",
   "execution_count": 33,
   "metadata": {},
   "outputs": [],
   "source": [
    "X, y = shuffle(X, y, random_state=42)"
   ]
  },
  {
   "cell_type": "code",
   "execution_count": 34,
   "metadata": {
    "scrolled": false
   },
   "outputs": [
    {
     "data": {
      "text/html": [
       "<div>\n",
       "<style scoped>\n",
       "    .dataframe tbody tr th:only-of-type {\n",
       "        vertical-align: middle;\n",
       "    }\n",
       "\n",
       "    .dataframe tbody tr th {\n",
       "        vertical-align: top;\n",
       "    }\n",
       "\n",
       "    .dataframe thead th {\n",
       "        text-align: right;\n",
       "    }\n",
       "</style>\n",
       "<table border=\"1\" class=\"dataframe\">\n",
       "  <thead>\n",
       "    <tr style=\"text-align: right;\">\n",
       "      <th></th>\n",
       "      <th>DEPTH_MD</th>\n",
       "      <th>X_LOC</th>\n",
       "      <th>Y_LOC</th>\n",
       "      <th>Z_LOC</th>\n",
       "      <th>GROUP</th>\n",
       "      <th>FORMATION</th>\n",
       "      <th>CALI</th>\n",
       "      <th>RSHA</th>\n",
       "      <th>RMED</th>\n",
       "      <th>RDEP</th>\n",
       "      <th>...</th>\n",
       "      <th>SP</th>\n",
       "      <th>BS</th>\n",
       "      <th>ROP</th>\n",
       "      <th>DTS</th>\n",
       "      <th>DCAL</th>\n",
       "      <th>DRHO</th>\n",
       "      <th>MUDWEIGHT</th>\n",
       "      <th>RMIC</th>\n",
       "      <th>ROPA</th>\n",
       "      <th>RXO</th>\n",
       "    </tr>\n",
       "  </thead>\n",
       "  <tbody>\n",
       "    <tr>\n",
       "      <th>30423</th>\n",
       "      <td>2343.304000</td>\n",
       "      <td>436806.46875</td>\n",
       "      <td>6463010.5</td>\n",
       "      <td>-2318.007324</td>\n",
       "      <td>ROGALAND GP.</td>\n",
       "      <td>Lista Fm.</td>\n",
       "      <td>14.882113</td>\n",
       "      <td>0.771240</td>\n",
       "      <td>0.771240</td>\n",
       "      <td>0.662699</td>\n",
       "      <td>...</td>\n",
       "      <td>88.208725</td>\n",
       "      <td>12.250001</td>\n",
       "      <td>12.761565</td>\n",
       "      <td>0.000000</td>\n",
       "      <td>2.632109</td>\n",
       "      <td>0.115312</td>\n",
       "      <td>0.143792</td>\n",
       "      <td>0.000000</td>\n",
       "      <td>0.000000</td>\n",
       "      <td>0.57085</td>\n",
       "    </tr>\n",
       "    <tr>\n",
       "      <th>1073159</th>\n",
       "      <td>3582.467851</td>\n",
       "      <td>543919.75000</td>\n",
       "      <td>6856653.5</td>\n",
       "      <td>-3477.858154</td>\n",
       "      <td>CROMER KNOLL GP.</td>\n",
       "      <td>Roedby Fm.</td>\n",
       "      <td>8.645628</td>\n",
       "      <td>0.000000</td>\n",
       "      <td>5.599961</td>\n",
       "      <td>4.988578</td>\n",
       "      <td>...</td>\n",
       "      <td>0.000000</td>\n",
       "      <td>8.500000</td>\n",
       "      <td>10.556081</td>\n",
       "      <td>150.206314</td>\n",
       "      <td>0.000000</td>\n",
       "      <td>-0.007215</td>\n",
       "      <td>0.000000</td>\n",
       "      <td>6.627153</td>\n",
       "      <td>10.410796</td>\n",
       "      <td>0.00000</td>\n",
       "    </tr>\n",
       "    <tr>\n",
       "      <th>436368</th>\n",
       "      <td>734.814000</td>\n",
       "      <td>483545.34375</td>\n",
       "      <td>6590313.0</td>\n",
       "      <td>-709.762207</td>\n",
       "      <td>NORDLAND GP.</td>\n",
       "      <td>Utsira Fm.</td>\n",
       "      <td>0.000000</td>\n",
       "      <td>0.000000</td>\n",
       "      <td>0.000000</td>\n",
       "      <td>1.000559</td>\n",
       "      <td>...</td>\n",
       "      <td>0.000000</td>\n",
       "      <td>17.500000</td>\n",
       "      <td>109.271744</td>\n",
       "      <td>0.000000</td>\n",
       "      <td>0.000000</td>\n",
       "      <td>0.000000</td>\n",
       "      <td>0.000000</td>\n",
       "      <td>0.000000</td>\n",
       "      <td>0.000000</td>\n",
       "      <td>0.00000</td>\n",
       "    </tr>\n",
       "    <tr>\n",
       "      <th>290688</th>\n",
       "      <td>1075.968000</td>\n",
       "      <td>487291.25000</td>\n",
       "      <td>6643945.0</td>\n",
       "      <td>-1053.937988</td>\n",
       "      <td>HORDALAND GP.</td>\n",
       "      <td>0</td>\n",
       "      <td>17.646826</td>\n",
       "      <td>0.000000</td>\n",
       "      <td>0.867609</td>\n",
       "      <td>1.231773</td>\n",
       "      <td>...</td>\n",
       "      <td>21.596836</td>\n",
       "      <td>17.500000</td>\n",
       "      <td>7.970956</td>\n",
       "      <td>0.000000</td>\n",
       "      <td>0.215513</td>\n",
       "      <td>0.051340</td>\n",
       "      <td>0.958611</td>\n",
       "      <td>0.000000</td>\n",
       "      <td>0.000000</td>\n",
       "      <td>0.00000</td>\n",
       "    </tr>\n",
       "    <tr>\n",
       "      <th>1118085</th>\n",
       "      <td>3580.061600</td>\n",
       "      <td>537897.75000</td>\n",
       "      <td>6791142.5</td>\n",
       "      <td>-3069.179688</td>\n",
       "      <td>BAAT GP.</td>\n",
       "      <td>Rannoch Fm.</td>\n",
       "      <td>8.572706</td>\n",
       "      <td>0.000000</td>\n",
       "      <td>7.634528</td>\n",
       "      <td>8.066478</td>\n",
       "      <td>...</td>\n",
       "      <td>0.000000</td>\n",
       "      <td>8.500000</td>\n",
       "      <td>31.773550</td>\n",
       "      <td>140.671463</td>\n",
       "      <td>0.000000</td>\n",
       "      <td>0.039784</td>\n",
       "      <td>0.000000</td>\n",
       "      <td>0.000000</td>\n",
       "      <td>0.000000</td>\n",
       "      <td>0.00000</td>\n",
       "    </tr>\n",
       "    <tr>\n",
       "      <th>...</th>\n",
       "      <td>...</td>\n",
       "      <td>...</td>\n",
       "      <td>...</td>\n",
       "      <td>...</td>\n",
       "      <td>...</td>\n",
       "      <td>...</td>\n",
       "      <td>...</td>\n",
       "      <td>...</td>\n",
       "      <td>...</td>\n",
       "      <td>...</td>\n",
       "      <td>...</td>\n",
       "      <td>...</td>\n",
       "      <td>...</td>\n",
       "      <td>...</td>\n",
       "      <td>...</td>\n",
       "      <td>...</td>\n",
       "      <td>...</td>\n",
       "      <td>...</td>\n",
       "      <td>...</td>\n",
       "      <td>...</td>\n",
       "      <td>...</td>\n",
       "    </tr>\n",
       "    <tr>\n",
       "      <th>110268</th>\n",
       "      <td>2619.545201</td>\n",
       "      <td>0.00000</td>\n",
       "      <td>0.0</td>\n",
       "      <td>0.000000</td>\n",
       "      <td>ZECHSTEIN GP.</td>\n",
       "      <td>Smith Bank Fm.</td>\n",
       "      <td>12.437759</td>\n",
       "      <td>0.000000</td>\n",
       "      <td>0.000000</td>\n",
       "      <td>0.000000</td>\n",
       "      <td>...</td>\n",
       "      <td>0.000000</td>\n",
       "      <td>12.250001</td>\n",
       "      <td>2.385924</td>\n",
       "      <td>0.000000</td>\n",
       "      <td>0.000000</td>\n",
       "      <td>0.000000</td>\n",
       "      <td>1.425934</td>\n",
       "      <td>0.000000</td>\n",
       "      <td>0.000000</td>\n",
       "      <td>0.00000</td>\n",
       "    </tr>\n",
       "    <tr>\n",
       "      <th>259178</th>\n",
       "      <td>3032.057901</td>\n",
       "      <td>476870.34375</td>\n",
       "      <td>6625402.0</td>\n",
       "      <td>-3008.017822</td>\n",
       "      <td>VIKING GP.</td>\n",
       "      <td>Draupne Fm.</td>\n",
       "      <td>12.151999</td>\n",
       "      <td>1.934554</td>\n",
       "      <td>1.315825</td>\n",
       "      <td>1.341654</td>\n",
       "      <td>...</td>\n",
       "      <td>58.382977</td>\n",
       "      <td>12.250001</td>\n",
       "      <td>0.000000</td>\n",
       "      <td>0.000000</td>\n",
       "      <td>-0.098000</td>\n",
       "      <td>0.037645</td>\n",
       "      <td>0.000000</td>\n",
       "      <td>0.000000</td>\n",
       "      <td>0.000000</td>\n",
       "      <td>0.00000</td>\n",
       "    </tr>\n",
       "    <tr>\n",
       "      <th>131932</th>\n",
       "      <td>2015.638396</td>\n",
       "      <td>476768.28125</td>\n",
       "      <td>6523588.5</td>\n",
       "      <td>-1989.272949</td>\n",
       "      <td>HEGRE GP.</td>\n",
       "      <td>Skagerrak Fm.</td>\n",
       "      <td>8.527798</td>\n",
       "      <td>0.000000</td>\n",
       "      <td>1.631037</td>\n",
       "      <td>1.619809</td>\n",
       "      <td>...</td>\n",
       "      <td>0.000000</td>\n",
       "      <td>8.500000</td>\n",
       "      <td>9.060954</td>\n",
       "      <td>172.162643</td>\n",
       "      <td>0.000000</td>\n",
       "      <td>-0.001382</td>\n",
       "      <td>0.000000</td>\n",
       "      <td>0.000000</td>\n",
       "      <td>0.000000</td>\n",
       "      <td>0.00000</td>\n",
       "    </tr>\n",
       "    <tr>\n",
       "      <th>671155</th>\n",
       "      <td>1424.414000</td>\n",
       "      <td>530753.68750</td>\n",
       "      <td>6732068.0</td>\n",
       "      <td>-1380.430908</td>\n",
       "      <td>ROGALAND GP.</td>\n",
       "      <td>Lista Fm.</td>\n",
       "      <td>0.000000</td>\n",
       "      <td>0.000000</td>\n",
       "      <td>0.000000</td>\n",
       "      <td>0.576554</td>\n",
       "      <td>...</td>\n",
       "      <td>0.000000</td>\n",
       "      <td>0.000000</td>\n",
       "      <td>0.000000</td>\n",
       "      <td>0.000000</td>\n",
       "      <td>0.000000</td>\n",
       "      <td>0.000000</td>\n",
       "      <td>0.000000</td>\n",
       "      <td>0.000000</td>\n",
       "      <td>0.000000</td>\n",
       "      <td>0.00000</td>\n",
       "    </tr>\n",
       "    <tr>\n",
       "      <th>121958</th>\n",
       "      <td>2177.355200</td>\n",
       "      <td>475597.31250</td>\n",
       "      <td>6519111.0</td>\n",
       "      <td>-1885.009888</td>\n",
       "      <td>CROMER KNOLL GP.</td>\n",
       "      <td>Aasgard Fm.</td>\n",
       "      <td>8.964350</td>\n",
       "      <td>0.000000</td>\n",
       "      <td>3.032099</td>\n",
       "      <td>2.983775</td>\n",
       "      <td>...</td>\n",
       "      <td>0.000000</td>\n",
       "      <td>8.500000</td>\n",
       "      <td>11.520622</td>\n",
       "      <td>192.304855</td>\n",
       "      <td>0.000000</td>\n",
       "      <td>-0.010653</td>\n",
       "      <td>0.000000</td>\n",
       "      <td>3.083766</td>\n",
       "      <td>5.067096</td>\n",
       "      <td>0.00000</td>\n",
       "    </tr>\n",
       "  </tbody>\n",
       "</table>\n",
       "<p>1170511 rows × 26 columns</p>\n",
       "</div>"
      ],
      "text/plain": [
       "            DEPTH_MD         X_LOC      Y_LOC        Z_LOC             GROUP  \\\n",
       "30423    2343.304000  436806.46875  6463010.5 -2318.007324      ROGALAND GP.   \n",
       "1073159  3582.467851  543919.75000  6856653.5 -3477.858154  CROMER KNOLL GP.   \n",
       "436368    734.814000  483545.34375  6590313.0  -709.762207      NORDLAND GP.   \n",
       "290688   1075.968000  487291.25000  6643945.0 -1053.937988     HORDALAND GP.   \n",
       "1118085  3580.061600  537897.75000  6791142.5 -3069.179688          BAAT GP.   \n",
       "...              ...           ...        ...          ...               ...   \n",
       "110268   2619.545201       0.00000        0.0     0.000000     ZECHSTEIN GP.   \n",
       "259178   3032.057901  476870.34375  6625402.0 -3008.017822        VIKING GP.   \n",
       "131932   2015.638396  476768.28125  6523588.5 -1989.272949         HEGRE GP.   \n",
       "671155   1424.414000  530753.68750  6732068.0 -1380.430908      ROGALAND GP.   \n",
       "121958   2177.355200  475597.31250  6519111.0 -1885.009888  CROMER KNOLL GP.   \n",
       "\n",
       "              FORMATION       CALI      RSHA      RMED      RDEP  ...  \\\n",
       "30423         Lista Fm.  14.882113  0.771240  0.771240  0.662699  ...   \n",
       "1073159      Roedby Fm.   8.645628  0.000000  5.599961  4.988578  ...   \n",
       "436368       Utsira Fm.   0.000000  0.000000  0.000000  1.000559  ...   \n",
       "290688                0  17.646826  0.000000  0.867609  1.231773  ...   \n",
       "1118085     Rannoch Fm.   8.572706  0.000000  7.634528  8.066478  ...   \n",
       "...                 ...        ...       ...       ...       ...  ...   \n",
       "110268   Smith Bank Fm.  12.437759  0.000000  0.000000  0.000000  ...   \n",
       "259178      Draupne Fm.  12.151999  1.934554  1.315825  1.341654  ...   \n",
       "131932    Skagerrak Fm.   8.527798  0.000000  1.631037  1.619809  ...   \n",
       "671155        Lista Fm.   0.000000  0.000000  0.000000  0.576554  ...   \n",
       "121958      Aasgard Fm.   8.964350  0.000000  3.032099  2.983775  ...   \n",
       "\n",
       "                SP         BS         ROP         DTS      DCAL      DRHO  \\\n",
       "30423    88.208725  12.250001   12.761565    0.000000  2.632109  0.115312   \n",
       "1073159   0.000000   8.500000   10.556081  150.206314  0.000000 -0.007215   \n",
       "436368    0.000000  17.500000  109.271744    0.000000  0.000000  0.000000   \n",
       "290688   21.596836  17.500000    7.970956    0.000000  0.215513  0.051340   \n",
       "1118085   0.000000   8.500000   31.773550  140.671463  0.000000  0.039784   \n",
       "...            ...        ...         ...         ...       ...       ...   \n",
       "110268    0.000000  12.250001    2.385924    0.000000  0.000000  0.000000   \n",
       "259178   58.382977  12.250001    0.000000    0.000000 -0.098000  0.037645   \n",
       "131932    0.000000   8.500000    9.060954  172.162643  0.000000 -0.001382   \n",
       "671155    0.000000   0.000000    0.000000    0.000000  0.000000  0.000000   \n",
       "121958    0.000000   8.500000   11.520622  192.304855  0.000000 -0.010653   \n",
       "\n",
       "         MUDWEIGHT      RMIC       ROPA      RXO  \n",
       "30423     0.143792  0.000000   0.000000  0.57085  \n",
       "1073159   0.000000  6.627153  10.410796  0.00000  \n",
       "436368    0.000000  0.000000   0.000000  0.00000  \n",
       "290688    0.958611  0.000000   0.000000  0.00000  \n",
       "1118085   0.000000  0.000000   0.000000  0.00000  \n",
       "...            ...       ...        ...      ...  \n",
       "110268    1.425934  0.000000   0.000000  0.00000  \n",
       "259178    0.000000  0.000000   0.000000  0.00000  \n",
       "131932    0.000000  0.000000   0.000000  0.00000  \n",
       "671155    0.000000  0.000000   0.000000  0.00000  \n",
       "121958    0.000000  3.083766   5.067096  0.00000  \n",
       "\n",
       "[1170511 rows x 26 columns]"
      ]
     },
     "execution_count": 34,
     "metadata": {},
     "output_type": "execute_result"
    }
   ],
   "source": [
    "X"
   ]
  },
  {
   "cell_type": "markdown",
   "metadata": {},
   "source": [
    "#### Select only the columns you want to use"
   ]
  },
  {
   "cell_type": "code",
   "execution_count": 35,
   "metadata": {},
   "outputs": [
    {
     "data": {
      "text/plain": [
       "Index(['DEPTH_MD', 'X_LOC', 'Y_LOC', 'Z_LOC', 'GROUP', 'FORMATION', 'CALI',\n",
       "       'RSHA', 'RMED', 'RDEP', 'RHOB', 'GR', 'SGR', 'NPHI', 'PEF', 'DTC', 'SP',\n",
       "       'BS', 'ROP', 'DTS', 'DCAL', 'DRHO', 'MUDWEIGHT', 'RMIC', 'ROPA', 'RXO'],\n",
       "      dtype='object')"
      ]
     },
     "execution_count": 35,
     "metadata": {},
     "output_type": "execute_result"
    }
   ],
   "source": [
    "X.columns"
   ]
  },
  {
   "cell_type": "code",
   "execution_count": 36,
   "metadata": {},
   "outputs": [],
   "source": [
    "X = X[['DEPTH_MD', 'CALI', 'RSHA', 'RMED', 'RDEP', 'RHOB', 'GR', 'NPHI', 'PEF', 'DTC', 'SP', 'BS']]\n",
    "indxs = X.columns"
   ]
  },
  {
   "cell_type": "markdown",
   "metadata": {},
   "source": [
    "##### Scale the features"
   ]
  },
  {
   "cell_type": "code",
   "execution_count": 37,
   "metadata": {},
   "outputs": [],
   "source": [
    "scaler = StandardScaler()"
   ]
  },
  {
   "cell_type": "code",
   "execution_count": 38,
   "metadata": {},
   "outputs": [
    {
     "data": {
      "text/plain": [
       "Index(['DEPTH_MD', 'CALI', 'RSHA', 'RMED', 'RDEP', 'RHOB', 'GR', 'NPHI', 'PEF',\n",
       "       'DTC', 'SP', 'BS'],\n",
       "      dtype='object')"
      ]
     },
     "execution_count": 38,
     "metadata": {},
     "output_type": "execute_result"
    }
   ],
   "source": [
    "X.columns"
   ]
  },
  {
   "cell_type": "code",
   "execution_count": 39,
   "metadata": {},
   "outputs": [],
   "source": [
    "X = scaler.fit_transform(X)"
   ]
  },
  {
   "cell_type": "markdown",
   "metadata": {},
   "source": [
    "##### Split into train and test data"
   ]
  },
  {
   "cell_type": "code",
   "execution_count": 40,
   "metadata": {},
   "outputs": [],
   "source": [
    "X_train, X_test, y_train, y_test = train_test_split(X, y, test_size=0.2, random_state=42)"
   ]
  },
  {
   "cell_type": "markdown",
   "metadata": {},
   "source": [
    "### Applying the custom scoring function"
   ]
  },
  {
   "cell_type": "markdown",
   "metadata": {},
   "source": [
    "Apart from the missing log curves, **one of the key challenges of this machine learning competition is that you are being scored using a custom scoring function**. \n",
    "\n",
    "A prediction is scored using the penalty function\n",
    "$$ S = - \\frac{1}{N}\\sum_{i=0}^N A_{ \\hat{y}_i y_i} $$\n",
    "where $N$ is the number of samples, $y_i$ is prediction for sample $i$, $\\hat{y}_i$ is the true target for sample $i$, and $A$ is the penalty matrix given by the following\n",
    "\n",
    "In short, the value of the matrix A at row i and column j is the **penalty** given by guessing lithology number i when the correct label is lithology numner j. Notice that the diagonal consists of zeros, no penalty is given for correct predictions."
   ]
  },
  {
   "cell_type": "code",
   "execution_count": 41,
   "metadata": {},
   "outputs": [],
   "source": [
    "A = np.load('penalty_matrix.npy')"
   ]
  },
  {
   "cell_type": "code",
   "execution_count": 42,
   "metadata": {},
   "outputs": [
    {
     "data": {
      "text/plain": [
       "array([[0.   , 2.   , 3.5  , 3.   , 3.75 , 3.5  , 3.5  , 4.   , 4.   ,\n",
       "        2.5  , 3.875, 3.25 ],\n",
       "       [2.   , 0.   , 2.375, 2.75 , 4.   , 3.75 , 3.75 , 3.875, 4.   ,\n",
       "        3.   , 3.75 , 3.   ],\n",
       "       [3.5  , 2.375, 0.   , 2.   , 3.5  , 3.5  , 3.75 , 4.   , 4.   ,\n",
       "        2.75 , 3.25 , 3.   ],\n",
       "       [3.   , 2.75 , 2.   , 0.   , 2.5  , 2.   , 2.25 , 4.   , 4.   ,\n",
       "        3.375, 3.75 , 3.25 ],\n",
       "       [3.75 , 4.   , 3.5  , 2.5  , 0.   , 2.625, 2.875, 3.75 , 3.25 ,\n",
       "        3.   , 4.   , 3.625],\n",
       "       [3.5  , 3.75 , 3.5  , 2.   , 2.625, 0.   , 1.375, 4.   , 3.75 ,\n",
       "        3.5  , 4.   , 3.625],\n",
       "       [3.5  , 3.75 , 3.75 , 2.25 , 2.875, 1.375, 0.   , 4.   , 3.75 ,\n",
       "        3.125, 4.   , 3.75 ],\n",
       "       [4.   , 3.875, 4.   , 4.   , 3.75 , 4.   , 4.   , 0.   , 2.75 ,\n",
       "        3.75 , 3.75 , 4.   ],\n",
       "       [4.   , 4.   , 4.   , 4.   , 3.25 , 3.75 , 3.75 , 2.75 , 0.   ,\n",
       "        4.   , 4.   , 3.875],\n",
       "       [2.5  , 3.   , 2.75 , 3.375, 3.   , 3.5  , 3.125, 3.75 , 4.   ,\n",
       "        0.   , 2.5  , 3.25 ],\n",
       "       [3.875, 3.75 , 3.25 , 3.75 , 4.   , 4.   , 4.   , 3.75 , 4.   ,\n",
       "        2.5  , 0.   , 4.   ],\n",
       "       [3.25 , 3.   , 3.   , 3.25 , 3.625, 3.625, 3.75 , 4.   , 3.875,\n",
       "        3.25 , 4.   , 0.   ]])"
      ]
     },
     "execution_count": 42,
     "metadata": {},
     "output_type": "execute_result"
    }
   ],
   "source": [
    "A"
   ]
  },
  {
   "cell_type": "markdown",
   "metadata": {},
   "source": [
    "The scoring function can be implemented as follows. If used as a loss function in a neural network framwork, it is recommended to implement a more efficient function based on tensor products. "
   ]
  },
  {
   "cell_type": "code",
   "execution_count": 43,
   "metadata": {},
   "outputs": [],
   "source": [
    "def score(y_true, y_pred):\n",
    "    S = 0.0\n",
    "    y_true = y_true.astype(int)\n",
    "    y_pred = y_pred.astype(int)\n",
    "    for i in range(0, y_true.shape[0]):\n",
    "        S -= A[y_true[i], y_pred[i]]\n",
    "    return S/y_true.shape[0]"
   ]
  },
  {
   "cell_type": "markdown",
   "metadata": {},
   "source": [
    "**IMPORTANT: The implementation above assumes zero-indexed y_true and y_pred. Be careful not to mix zero-indexed and 1-indexed class labels.**"
   ]
  },
  {
   "cell_type": "markdown",
   "metadata": {},
   "source": [
    "Let us see what happens when we test the scoring function on some corner cases:"
   ]
  },
  {
   "cell_type": "markdown",
   "metadata": {},
   "source": [
    "##### Lazily guessing SHALE for everything gives an OK score due to the imbalance of the dataset"
   ]
  },
  {
   "cell_type": "code",
   "execution_count": 44,
   "metadata": {},
   "outputs": [
    {
     "data": {
      "text/plain": [
       "-1.154113253567874"
      ]
     },
     "execution_count": 44,
     "metadata": {},
     "output_type": "execute_result"
    }
   ],
   "source": [
    "score(y_test.values, np.ones(y_test.shape)*2)"
   ]
  },
  {
   "cell_type": "markdown",
   "metadata": {},
   "source": [
    "##### Doing the same for an uncommon class, like COAL, not so much.."
   ]
  },
  {
   "cell_type": "code",
   "execution_count": 45,
   "metadata": {},
   "outputs": [
    {
     "data": {
      "text/plain": [
       "-3.0950906225037698"
      ]
     },
     "execution_count": 45,
     "metadata": {},
     "output_type": "execute_result"
    }
   ],
   "source": [
    "score(y_test.values, np.ones(y_test.shape)*11)"
   ]
  },
  {
   "cell_type": "markdown",
   "metadata": {},
   "source": [
    "##### Of course getting it completely right gives the highest possible score, 0"
   ]
  },
  {
   "cell_type": "code",
   "execution_count": 46,
   "metadata": {},
   "outputs": [
    {
     "data": {
      "text/plain": [
       "0.0"
      ]
     },
     "execution_count": 46,
     "metadata": {},
     "output_type": "execute_result"
    }
   ],
   "source": [
    "score(y_test.values, y_test.values)"
   ]
  },
  {
   "cell_type": "markdown",
   "metadata": {},
   "source": [
    "### Example prediction on open test dataset"
   ]
  },
  {
   "cell_type": "markdown",
   "metadata": {},
   "source": [
    "##### Train an oversimplified dummy model for the sake of the example\n",
    "In order to give examples of how to submit predictions and reproducible code, we will train a RandomForestClassifier on the full feature set where we lazily have set all missing values (NaNs) to zero. This is an example only, following along this approach for the competition is not recommended. However, the template below can be used for generating predictions for the weekly leaderboard from your own model, and as an example on how to ecapsulate your model for final scoring where you have to submit code.\n",
    "\n",
    "Apart from the inherent flaws of the random forest classifier, this example approach has a number of issues and simplifications. For example:\n",
    "* Data is not separated per well. Normalization and shuffling is done across the whole dataset.\n",
    "* The penatly matrix is not taken into account, it is treated as a normal classification problem.\n",
    "* Missing logs are treated as zeros\n",
    "* Depth and formation tops not taken into account\n",
    "* Same model is used for when you only have gamma ray logs as when you have the full set of logs"
   ]
  },
  {
   "cell_type": "code",
   "execution_count": 47,
   "metadata": {
    "scrolled": true
   },
   "outputs": [],
   "source": [
    "model = RandomForestClassifier(n_estimators=50, random_state=42, class_weight='balanced')"
   ]
  },
  {
   "cell_type": "code",
   "execution_count": 48,
   "metadata": {},
   "outputs": [
    {
     "data": {
      "text/plain": [
       "RandomForestClassifier(class_weight='balanced', n_estimators=50,\n",
       "                       random_state=42)"
      ]
     },
     "execution_count": 48,
     "metadata": {},
     "output_type": "execute_result"
    }
   ],
   "source": [
    "model.fit(X_train, y_train)"
   ]
  },
  {
   "cell_type": "code",
   "execution_count": 50,
   "metadata": {},
   "outputs": [
    {
     "data": {
      "text/plain": [
       "DEPTH_MD    0.143151\n",
       "DTC         0.122188\n",
       "RHOB        0.121060\n",
       "GR          0.117512\n",
       "RMED        0.087309\n",
       "NPHI        0.077121\n",
       "CALI        0.076846\n",
       "SP          0.073030\n",
       "RDEP        0.062748\n",
       "RSHA        0.048583\n",
       "PEF         0.037008\n",
       "BS          0.033445\n",
       "dtype: float64"
      ]
     },
     "execution_count": 50,
     "metadata": {},
     "output_type": "execute_result"
    }
   ],
   "source": [
    "importances = model.feature_importances_\n",
    "importances = pd.Series(importances, index=indxs).sort_values(ascending=False)\n",
    "importances"
   ]
  },
  {
   "cell_type": "code",
   "execution_count": 51,
   "metadata": {},
   "outputs": [
    {
     "data": {
      "text/plain": [
       "1.0000000000000002"
      ]
     },
     "execution_count": 51,
     "metadata": {},
     "output_type": "execute_result"
    }
   ],
   "source": [
    "np.sum(importances)"
   ]
  },
  {
   "cell_type": "code",
   "execution_count": 52,
   "metadata": {},
   "outputs": [
    {
     "data": {
      "image/png": "[encoded data removed]",
      "text/plain": [
       "<Figure size 432x288 with 1 Axes>"
      ]
     },
     "metadata": {
      "needs_background": "light"
     },
     "output_type": "display_data"
    }
   ],
   "source": [
    "sns.barplot(y=importances.index, x=importances, orient=\"h\")\n",
    "pass"
   ]
  },
  {
   "cell_type": "markdown",
   "metadata": {},
   "source": [
    "#### Test model"
   ]
  },
  {
   "cell_type": "code",
   "execution_count": 53,
   "metadata": {},
   "outputs": [],
   "source": [
    "y_pred_test = model.predict(X_test)"
   ]
  },
  {
   "cell_type": "code",
   "execution_count": 54,
   "metadata": {},
   "outputs": [
    {
     "data": {
      "text/plain": [
       "-0.12972655198780025"
      ]
     },
     "execution_count": 54,
     "metadata": {},
     "output_type": "execute_result"
    }
   ],
   "source": [
    "score(y_test.values, y_pred_test)"
   ]
  },
  {
   "cell_type": "markdown",
   "metadata": {},
   "source": [
    "##### Save model and scaler to files"
   ]
  },
  {
   "cell_type": "code",
   "execution_count": 55,
   "metadata": {},
   "outputs": [],
   "source": [
    "pickle.dump(model, open('model.pkl', 'wb'))"
   ]
  },
  {
   "cell_type": "code",
   "execution_count": 56,
   "metadata": {},
   "outputs": [],
   "source": [
    "pickle.dump(scaler, open('scaler.pkl', 'wb'))"
   ]
  },
  {
   "cell_type": "markdown",
   "metadata": {},
   "source": [
    "In order to make it easy to run inference on new data, such as the open test dataset, it is recommended to wrap the initialization of the model, all preprocessing steps including normalization, treatment of NaNs and removals of unused columns in a class or pipeline. There are many ways of doing this, one example being a class like below:"
   ]
  },
  {
   "cell_type": "code",
   "execution_count": 57,
   "metadata": {},
   "outputs": [],
   "source": [
    "class Model(object):\n",
    "    def __init__(self, model_file, scaler_file):\n",
    "        # Load pre-trained model from file\n",
    "        self.model = pickle.load(open(model_file, 'rb'))\n",
    "        # Load a \"pre-trained\" scaler from file\n",
    "        self.scaler = pickle.load(open(scaler_file, 'rb'))\n",
    "        \n",
    "    def _preprocess(self, features):\n",
    "        # Method to be run before inference. Contains things like\n",
    "        # stripping unwanted columns, replacing NaNs, and scaling \n",
    "        # or normalizing data\n",
    "        features.fillna(0, inplace=True)\n",
    "        features = features[['DEPTH_MD', 'CALI', 'RSHA', 'RMED', 'RDEP', 'RHOB', 'GR', 'NPHI', 'PEF', 'DTC', 'SP', 'BS']]\n",
    "        return self.scaler.transform(features)\n",
    "        \n",
    "    def predict(self, features):\n",
    "        # This function should be able to take in features in their\n",
    "        # raw, unprocessed form as read from the file test.csv and\n",
    "        # return predictions as an array integers of the same length\n",
    "        X = self._preprocess(features)\n",
    "        return self.model.predict(X)"
   ]
  },
  {
   "cell_type": "markdown",
   "metadata": {},
   "source": [
    "The model can then be initialized using persisted data in the form of saved model file (or models files), scaler files, and other persisted data.  "
   ]
  },
  {
   "cell_type": "code",
   "execution_count": 58,
   "metadata": {},
   "outputs": [],
   "source": [
    "my_model = Model('model.pkl', 'scaler.pkl')"
   ]
  },
  {
   "cell_type": "markdown",
   "metadata": {},
   "source": [
    "##### Example submission: weekly leaderboard\n",
    "For the weekly leaderboard that will start September 1st, you are asked to submit predictions on the supplied open dataset in the file `test.csv`. This file contains all the columns that are in the training data except LITHOLOGY and LITHOLOGY_CONFIDENCE. Notice that the test data will also have missing columns. It is therefore important that your inference pipeline has the treatment of these missing columns as part of the pre-processing step."
   ]
  },
  {
   "cell_type": "code",
   "execution_count": 59,
   "metadata": {},
   "outputs": [],
   "source": [
    "open_test_features = pd.read_csv('test.csv', sep=';')"
   ]
  },
  {
   "cell_type": "code",
   "execution_count": 60,
   "metadata": {},
   "outputs": [
    {
     "data": {
      "text/html": [
       "<div>\n",
       "<style scoped>\n",
       "    .dataframe tbody tr th:only-of-type {\n",
       "        vertical-align: middle;\n",
       "    }\n",
       "\n",
       "    .dataframe tbody tr th {\n",
       "        vertical-align: top;\n",
       "    }\n",
       "\n",
       "    .dataframe thead th {\n",
       "        text-align: right;\n",
       "    }\n",
       "</style>\n",
       "<table border=\"1\" class=\"dataframe\">\n",
       "  <thead>\n",
       "    <tr style=\"text-align: right;\">\n",
       "      <th></th>\n",
       "      <th>WELL</th>\n",
       "      <th>DEPTH_MD</th>\n",
       "      <th>X_LOC</th>\n",
       "      <th>Y_LOC</th>\n",
       "      <th>Z_LOC</th>\n",
       "      <th>GROUP</th>\n",
       "      <th>FORMATION</th>\n",
       "      <th>CALI</th>\n",
       "      <th>RSHA</th>\n",
       "      <th>RMED</th>\n",
       "      <th>...</th>\n",
       "      <th>SP</th>\n",
       "      <th>BS</th>\n",
       "      <th>ROP</th>\n",
       "      <th>DTS</th>\n",
       "      <th>DCAL</th>\n",
       "      <th>DRHO</th>\n",
       "      <th>MUDWEIGHT</th>\n",
       "      <th>RMIC</th>\n",
       "      <th>ROPA</th>\n",
       "      <th>RXO</th>\n",
       "    </tr>\n",
       "  </thead>\n",
       "  <tbody>\n",
       "    <tr>\n",
       "      <th>0</th>\n",
       "      <td>15/9-14</td>\n",
       "      <td>480.628001</td>\n",
       "      <td>423244.50000</td>\n",
       "      <td>6461862.5</td>\n",
       "      <td>-455.624420</td>\n",
       "      <td>NORDLAND GP.</td>\n",
       "      <td>NaN</td>\n",
       "      <td>19.2031</td>\n",
       "      <td>NaN</td>\n",
       "      <td>1.613886</td>\n",
       "      <td>...</td>\n",
       "      <td>35.525719</td>\n",
       "      <td>NaN</td>\n",
       "      <td>96.461990</td>\n",
       "      <td>NaN</td>\n",
       "      <td>NaN</td>\n",
       "      <td>-0.538873</td>\n",
       "      <td>0.130611</td>\n",
       "      <td>NaN</td>\n",
       "      <td>NaN</td>\n",
       "      <td>NaN</td>\n",
       "    </tr>\n",
       "    <tr>\n",
       "      <th>1</th>\n",
       "      <td>15/9-14</td>\n",
       "      <td>480.780001</td>\n",
       "      <td>423244.50000</td>\n",
       "      <td>6461862.5</td>\n",
       "      <td>-455.776428</td>\n",
       "      <td>NORDLAND GP.</td>\n",
       "      <td>NaN</td>\n",
       "      <td>19.2031</td>\n",
       "      <td>NaN</td>\n",
       "      <td>1.574376</td>\n",
       "      <td>...</td>\n",
       "      <td>36.158520</td>\n",
       "      <td>NaN</td>\n",
       "      <td>96.454399</td>\n",
       "      <td>NaN</td>\n",
       "      <td>NaN</td>\n",
       "      <td>-0.539232</td>\n",
       "      <td>0.130611</td>\n",
       "      <td>NaN</td>\n",
       "      <td>NaN</td>\n",
       "      <td>NaN</td>\n",
       "    </tr>\n",
       "    <tr>\n",
       "      <th>2</th>\n",
       "      <td>15/9-14</td>\n",
       "      <td>480.932001</td>\n",
       "      <td>423244.50000</td>\n",
       "      <td>6461862.5</td>\n",
       "      <td>-455.928436</td>\n",
       "      <td>NORDLAND GP.</td>\n",
       "      <td>NaN</td>\n",
       "      <td>19.2031</td>\n",
       "      <td>NaN</td>\n",
       "      <td>1.436627</td>\n",
       "      <td>...</td>\n",
       "      <td>36.873703</td>\n",
       "      <td>NaN</td>\n",
       "      <td>96.446686</td>\n",
       "      <td>NaN</td>\n",
       "      <td>NaN</td>\n",
       "      <td>-0.540830</td>\n",
       "      <td>0.130611</td>\n",
       "      <td>NaN</td>\n",
       "      <td>NaN</td>\n",
       "      <td>NaN</td>\n",
       "    </tr>\n",
       "    <tr>\n",
       "      <th>3</th>\n",
       "      <td>15/9-14</td>\n",
       "      <td>481.084001</td>\n",
       "      <td>423244.50000</td>\n",
       "      <td>6461862.5</td>\n",
       "      <td>-456.080444</td>\n",
       "      <td>NORDLAND GP.</td>\n",
       "      <td>NaN</td>\n",
       "      <td>19.2031</td>\n",
       "      <td>NaN</td>\n",
       "      <td>1.276094</td>\n",
       "      <td>...</td>\n",
       "      <td>37.304054</td>\n",
       "      <td>NaN</td>\n",
       "      <td>161.170166</td>\n",
       "      <td>NaN</td>\n",
       "      <td>NaN</td>\n",
       "      <td>-0.543943</td>\n",
       "      <td>0.130611</td>\n",
       "      <td>NaN</td>\n",
       "      <td>NaN</td>\n",
       "      <td>NaN</td>\n",
       "    </tr>\n",
       "    <tr>\n",
       "      <th>4</th>\n",
       "      <td>15/9-14</td>\n",
       "      <td>481.236001</td>\n",
       "      <td>423244.53125</td>\n",
       "      <td>6461862.5</td>\n",
       "      <td>-456.232422</td>\n",
       "      <td>NORDLAND GP.</td>\n",
       "      <td>NaN</td>\n",
       "      <td>19.2031</td>\n",
       "      <td>NaN</td>\n",
       "      <td>1.204704</td>\n",
       "      <td>...</td>\n",
       "      <td>37.864922</td>\n",
       "      <td>NaN</td>\n",
       "      <td>172.489120</td>\n",
       "      <td>NaN</td>\n",
       "      <td>NaN</td>\n",
       "      <td>-0.542104</td>\n",
       "      <td>0.130611</td>\n",
       "      <td>NaN</td>\n",
       "      <td>NaN</td>\n",
       "      <td>NaN</td>\n",
       "    </tr>\n",
       "  </tbody>\n",
       "</table>\n",
       "<p>5 rows × 27 columns</p>\n",
       "</div>"
      ],
      "text/plain": [
       "      WELL    DEPTH_MD         X_LOC      Y_LOC       Z_LOC         GROUP  \\\n",
       "0  15/9-14  480.628001  423244.50000  6461862.5 -455.624420  NORDLAND GP.   \n",
       "1  15/9-14  480.780001  423244.50000  6461862.5 -455.776428  NORDLAND GP.   \n",
       "2  15/9-14  480.932001  423244.50000  6461862.5 -455.928436  NORDLAND GP.   \n",
       "3  15/9-14  481.084001  423244.50000  6461862.5 -456.080444  NORDLAND GP.   \n",
       "4  15/9-14  481.236001  423244.53125  6461862.5 -456.232422  NORDLAND GP.   \n",
       "\n",
       "  FORMATION     CALI  RSHA      RMED  ...         SP  BS         ROP  DTS  \\\n",
       "0       NaN  19.2031   NaN  1.613886  ...  35.525719 NaN   96.461990  NaN   \n",
       "1       NaN  19.2031   NaN  1.574376  ...  36.158520 NaN   96.454399  NaN   \n",
       "2       NaN  19.2031   NaN  1.436627  ...  36.873703 NaN   96.446686  NaN   \n",
       "3       NaN  19.2031   NaN  1.276094  ...  37.304054 NaN  161.170166  NaN   \n",
       "4       NaN  19.2031   NaN  1.204704  ...  37.864922 NaN  172.489120  NaN   \n",
       "\n",
       "   DCAL      DRHO  MUDWEIGHT  RMIC  ROPA  RXO  \n",
       "0   NaN -0.538873   0.130611   NaN   NaN  NaN  \n",
       "1   NaN -0.539232   0.130611   NaN   NaN  NaN  \n",
       "2   NaN -0.540830   0.130611   NaN   NaN  NaN  \n",
       "3   NaN -0.543943   0.130611   NaN   NaN  NaN  \n",
       "4   NaN -0.542104   0.130611   NaN   NaN  NaN  \n",
       "\n",
       "[5 rows x 27 columns]"
      ]
     },
     "execution_count": 60,
     "metadata": {},
     "output_type": "execute_result"
    }
   ],
   "source": [
    "open_test_features.head()"
   ]
  },
  {
   "cell_type": "code",
   "execution_count": 61,
   "metadata": {},
   "outputs": [
    {
     "data": {
      "text/plain": [
       "Index(['WELL', 'DEPTH_MD', 'X_LOC', 'Y_LOC', 'Z_LOC', 'GROUP', 'FORMATION',\n",
       "       'CALI', 'RSHA', 'RMED', 'RDEP', 'RHOB', 'GR', 'SGR', 'NPHI', 'PEF',\n",
       "       'DTC', 'SP', 'BS', 'ROP', 'DTS', 'DCAL', 'DRHO', 'MUDWEIGHT', 'RMIC',\n",
       "       'ROPA', 'RXO'],\n",
       "      dtype='object')"
      ]
     },
     "execution_count": 61,
     "metadata": {},
     "output_type": "execute_result"
    }
   ],
   "source": [
    "open_test_features.columns"
   ]
  },
  {
   "cell_type": "code",
   "execution_count": 62,
   "metadata": {},
   "outputs": [],
   "source": [
    "test_prediction = my_model.predict(open_test_features)"
   ]
  },
  {
   "cell_type": "code",
   "execution_count": 63,
   "metadata": {
    "scrolled": true
   },
   "outputs": [
    {
     "data": {
      "text/plain": [
       "array([2, 2, 2, ..., 0, 0, 0])"
      ]
     },
     "execution_count": 63,
     "metadata": {},
     "output_type": "execute_result"
    }
   ],
   "source": [
    "test_prediction"
   ]
  },
  {
   "cell_type": "markdown",
   "metadata": {},
   "source": [
    "**Important:** Before submitting we must map these predictions back to the lithology labels"
   ]
  },
  {
   "cell_type": "code",
   "execution_count": 64,
   "metadata": {},
   "outputs": [],
   "source": [
    "category_to_lithology = {y:x for x,y in lithology_numbers.items()}"
   ]
  },
  {
   "cell_type": "code",
   "execution_count": 65,
   "metadata": {},
   "outputs": [],
   "source": [
    "test_prediction_for_submission = np.vectorize(category_to_lithology.get)(test_prediction)"
   ]
  },
  {
   "cell_type": "markdown",
   "metadata": {},
   "source": [
    "For submission to the weekly leaderboard, write the predictions as a csv file\n",
    "- single column (no index column or similar)\n",
    "- header: 'lithology'\n",
    "- exactly the same number of rows as the raw test features\n",
    "- use the original lithology labels, 65000, 30000, ..., NOT the encoded ones 0, 1, 2, ...\n",
    "\n",
    "Example:\n",
    "```\n",
    "lithology\n",
    "65000\n",
    "65000\n",
    "30000\n",
    "30000\n",
    "30000\n",
    "30000\n",
    "30000\n",
    "65030\n",
    "65030\n",
    "65030\n",
    ".\n",
    ".\n",
    ".\n",
    "```"
   ]
  },
  {
   "cell_type": "code",
   "execution_count": 66,
   "metadata": {},
   "outputs": [
    {
     "data": {
      "text/plain": [
       "array([65000, 65000, 65000, ..., 30000, 30000, 30000])"
      ]
     },
     "execution_count": 66,
     "metadata": {},
     "output_type": "execute_result"
    }
   ],
   "source": [
    "test_prediction_for_submission"
   ]
  },
  {
   "cell_type": "code",
   "execution_count": 67,
   "metadata": {},
   "outputs": [],
   "source": [
    "np.savetxt('test_predictions.csv', test_prediction_for_submission, header='lithology', comments='', fmt='%i')"
   ]
  },
  {
   "cell_type": "markdown",
   "metadata": {},
   "source": [
    "### Submitting code for final scoring\n",
    "At the end of the competition, the highest performing teams are invited to submit code for blind scoring on a hidden test dataset. The winner will be the team with the best score on the hidden test dataset, not the weekly leaderboard. In order to do this, you must submit the following in a zip-file:\n",
    "* Code to do the inference\n",
    "* Any persisted data in the form of pre-trained model or models, scalers, and more\n",
    "* Information about your environment\n",
    "\n",
    "There are many ways of doing this. In the example above, the code to do the inference would be the `Model` class in a python-file, the persisted data would be the files `model.pkl` and `scaler.pkl`. \n",
    "\n",
    "Your python environment needs to be replicable by the judges of the competition. There are many ways of doing this. Examples include dumping pip package versions to a file"
   ]
  },
  {
   "cell_type": "code",
   "execution_count": null,
   "metadata": {},
   "outputs": [],
   "source": [
    "!pip freeze > requirements.txt"
   ]
  }
 ],
 "metadata": {
  "kernelspec": {
   "display_name": "ml_env",
   "language": "python",
   "name": "ml_env"
  },
  "language_info": {
   "codemirror_mode": {
    "name": "ipython",
    "version": 3
   },
   "file_extension": ".py",
   "mimetype": "text/x-python",
   "name": "python",
   "nbconvert_exporter": "python",
   "pygments_lexer": "ipython3",
   "version": "3.8.2"
  }
 },
 "nbformat": 4,
 "nbformat_minor": 4
}
